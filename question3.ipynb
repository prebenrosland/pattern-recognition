{
 "cells": [
  {
   "cell_type": "code",
   "execution_count": 259,
   "id": "a2dea9e0",
   "metadata": {},
   "outputs": [],
   "source": [
    "import numpy as np\n",
    "import pandas as pd\n",
    "import time\n",
    "from sklearn.model_selection import train_test_split\n",
    "from sklearn.model_selection import cross_val_score\n",
    "from sklearn.model_selection import KFold\n",
    "from sklearn.metrics import confusion_matrix\n",
    "from sklearn.preprocessing import StandardScaler"
   ]
  },
  {
   "cell_type": "code",
   "execution_count": 130,
   "id": "d4d9a52c",
   "metadata": {},
   "outputs": [],
   "source": [
    "df = pd.read_csv(\"Datasets/Social_Network_Ads.csv\")\n",
    "X = df.iloc[:,1:-1]\n",
    "y = df.iloc[:,-1]\n",
    "X = pd.get_dummies(X, columns=[X.columns[0]], drop_first=True)\n",
    "\n",
    "X_train, X_test, y_train, y_test = train_test_split(X, y, test_size = 0.2, random_state=2)\n",
    "scale = StandardScaler()\n",
    "X_train = scale.fit_transform(X_train)\n",
    "X_test = scale.fit_transform(X_test)\n",
    "X_scale = scale.fit_transform(X)"
   ]
  },
  {
   "cell_type": "code",
   "execution_count": 131,
   "id": "47cf69b9",
   "metadata": {},
   "outputs": [
    {
     "name": "stdout",
     "output_type": "stream",
     "text": [
      "Confusion Matrix: \n",
      " [[45  3]\n",
      " [ 5 27]]\n",
      "Accuracy:  0.9\n"
     ]
    }
   ],
   "source": [
    "# Code inspired by ikt215 assignment 3\n",
    "def euclidean_distance(x1, x2):\n",
    "    return np.sqrt(np.sum((x1 - x2)**2))\n",
    "\n",
    "def predict(X_train, y_train, x_test, k):\n",
    "    distances = []\n",
    "    targets = []\n",
    "\n",
    "    for i, x_train in enumerate(X_train):\n",
    "        distance = euclidean_distance(x_test, x_train)\n",
    "        distances.append([distance, int(y_train.iloc[i])])\n",
    "    \n",
    "    distances = sorted(distances)\n",
    "    \n",
    "    for i in range(k):\n",
    "        targets.append(distances[i][1])\n",
    "    \n",
    "    return np.argmax(np.bincount(targets))\n",
    "\n",
    "predictions = []\n",
    "\n",
    "for x_test in X_test:\n",
    "    predictions.append(predict(X_train, y_train, x_test, 10))\n",
    "\n",
    "cm = confusion_matrix(y_test, predictions)\n",
    "accuracy = (cm[1,1] + cm[0,0]) / np.sum(cm)\n",
    "\n",
    "print(\"Confusion Matrix: \\n\", cm)\n",
    "print(\"Accuracy: \", accuracy)"
   ]
  },
  {
   "cell_type": "code",
   "execution_count": 132,
   "id": "b82f20de",
   "metadata": {},
   "outputs": [
    {
     "name": "stdout",
     "output_type": "stream",
     "text": [
      "Average accuracy for k = 1:\t 0.975\n",
      "Average accuracy for k = 2:\t 0.9175000000000001\n",
      "Average accuracy for k = 3:\t 0.9225\n",
      "Average accuracy for k = 4:\t 0.9125\n",
      "Average accuracy for k = 5:\t 0.9225\n",
      "Average accuracy for k = 6:\t 0.9125\n",
      "Average accuracy for k = 7:\t 0.9125\n",
      "Average accuracy for k = 8:\t 0.9125\n",
      "Average accuracy for k = 9:\t 0.9125\n",
      "Average accuracy for k = 10:\t 0.9175000000000001\n",
      "Average accuracy for k = 11:\t 0.9174999999999999\n",
      "Average accuracy for k = 12:\t 0.9175000000000001\n",
      "Average accuracy for k = 13:\t 0.9125\n",
      "Average accuracy for k = 14:\t 0.9125\n",
      "Average accuracy for k = 15:\t 0.9099999999999999\n",
      "\n",
      "Best k: 1\n"
     ]
    }
   ],
   "source": [
    "k_fold_cross = KFold(n_splits=5, shuffle=True, random_state=2)\n",
    "\n",
    "acc_for_k = []\n",
    "for k in range(1,16):\n",
    "    accuracy_list = []\n",
    "    for i, j in k_fold_cross.split(X_scale):\n",
    "        Xtrain, Xtest = X_scale[i], X_scale[j]\n",
    "        ytrain, ytest = y[i], y[j]\n",
    "\n",
    "        predict(Xtrain, y_train, Xtest, 3)\n",
    "\n",
    "        predictions = []\n",
    "        for x_test in Xtest:\n",
    "            predictions.append(predict(X_train, y_train, x_test, k))\n",
    "\n",
    "        cm = confusion_matrix(ytest, predictions)\n",
    "        accuracy_list.append((cm[1,1] + cm[0,0]) / np.sum(cm))\n",
    "\n",
    "    average_acc = np.mean(accuracy_list)\n",
    "    acc_for_k.append((average_acc, k))\n",
    "    print(f\"Average accuracy for k = {k}:\\t\", average_acc)\n",
    "\n",
    "print('\\nBest k:', max(acc_for_k, key=lambda x: x[0])[1])"
   ]
  },
  {
   "cell_type": "code",
   "execution_count": 239,
   "id": "bf41f776",
   "metadata": {},
   "outputs": [
    {
     "name": "stdout",
     "output_type": "stream",
     "text": [
      "Information in each component [0.40008219 0.31856284 0.28135497]\n"
     ]
    }
   ],
   "source": [
    "def calculate_pca(X, components):\n",
    "    X = (X - np.mean(X)) / np.std(X)\n",
    "    \n",
    "    covariance_matrix = np.cov(X, rowvar=False)\n",
    "    eigenvalues, eigenvectors = np.linalg.eig(covariance_matrix)\n",
    "    sort_by_value = (np.argsort(eigenvalues))[::-1]\n",
    "    eigenvalues = eigenvalues[sort_by_value]\n",
    "    eigenvectors = eigenvectors[:, sort_by_value]\n",
    "    pca = np.dot(X, eigenvectors[:, :components])\n",
    "    ratio = eigenvalues/sum(eigenvalues)\n",
    "\n",
    "    return(pca, ratio)\n",
    "\n",
    "print('Information in each component', calculate_pca(X_scale, 3)[1])"
   ]
  },
  {
   "cell_type": "code",
   "execution_count": 277,
   "id": "b708ec0d",
   "metadata": {},
   "outputs": [
    {
     "name": "stderr",
     "output_type": "stream",
     "text": [
      "C:\\Users\\prebe\\anaconda3\\Lib\\site-packages\\numpy\\core\\fromnumeric.py:3643: FutureWarning: The behavior of DataFrame.std with axis=None is deprecated, in a future version this will reduce over both axes and return a scalar. To retain the old behavior, pass axis=0 (or do not pass axis)\n",
      "  return std(axis=axis, dtype=dtype, out=out, ddof=ddof, **kwargs)\n"
     ]
    },
    {
     "name": "stdout",
     "output_type": "stream",
     "text": [
      "Accuracy for PC1:  0.85\n",
      "Time:  0.3210020065307617\n"
     ]
    }
   ],
   "source": [
    "X_train, X_test, y_train, y_test = train_test_split(calculate_pca(X, 1)[0], y, test_size = 0.2, random_state=0)\n",
    "predictions = []\n",
    "\n",
    "start = time.time()\n",
    "for x_test in X_test:\n",
    "    predictions.append(predict(X_train, y_train, x_test, 10))\n",
    "\n",
    "elapsed = time.time() - start\n",
    "\n",
    "cm = confusion_matrix(y_test, predictions)\n",
    "accuracy = (cm[1,1] + cm[0,0]) / np.sum(cm)\n",
    "print(\"Accuracy for PC1: \", accuracy)\n",
    "print(\"Time: \", elapsed)"
   ]
  },
  {
   "cell_type": "code",
   "execution_count": 278,
   "id": "dc17beb5",
   "metadata": {},
   "outputs": [
    {
     "name": "stderr",
     "output_type": "stream",
     "text": [
      "C:\\Users\\prebe\\anaconda3\\Lib\\site-packages\\numpy\\core\\fromnumeric.py:3643: FutureWarning: The behavior of DataFrame.std with axis=None is deprecated, in a future version this will reduce over both axes and return a scalar. To retain the old behavior, pass axis=0 (or do not pass axis)\n",
      "  return std(axis=axis, dtype=dtype, out=out, ddof=ddof, **kwargs)\n"
     ]
    },
    {
     "name": "stdout",
     "output_type": "stream",
     "text": [
      "Accuracy for PC2:  0.9\n",
      "Time:  0.3269994258880615\n"
     ]
    }
   ],
   "source": [
    "X_train, X_test, y_train, y_test = train_test_split(calculate_pca(X, 2)[0], y, test_size = 0.2, random_state=0)\n",
    "predictions = []\n",
    "\n",
    "start = time.time()\n",
    "\n",
    "for x_test in X_test:\n",
    "    predictions.append(predict(X_train, y_train, x_test, 10))\n",
    "\n",
    "elapsed = time.time() - start\n",
    "\n",
    "cm = confusion_matrix(y_test, predictions)\n",
    "accuracy = (cm[1,1] + cm[0,0]) / np.sum(cm)\n",
    "print(\"Accuracy for PC2: \", accuracy)\n",
    "print(\"Time: \", elapsed)"
   ]
  },
  {
   "cell_type": "code",
   "execution_count": 273,
   "id": "475dde60",
   "metadata": {},
   "outputs": [
    {
     "name": "stderr",
     "output_type": "stream",
     "text": [
      "C:\\Users\\prebe\\anaconda3\\Lib\\site-packages\\numpy\\core\\fromnumeric.py:3643: FutureWarning: The behavior of DataFrame.std with axis=None is deprecated, in a future version this will reduce over both axes and return a scalar. To retain the old behavior, pass axis=0 (or do not pass axis)\n",
      "  return std(axis=axis, dtype=dtype, out=out, ddof=ddof, **kwargs)\n"
     ]
    },
    {
     "name": "stdout",
     "output_type": "stream",
     "text": [
      "Accuracy for PC3:  0.95\n",
      "Time:  0.3357357978820801\n"
     ]
    }
   ],
   "source": [
    "X_train, X_test, y_train, y_test = train_test_split(calculate_pca(X, 3)[0], y, test_size = 0.2, random_state=0)\n",
    "predictions = []\n",
    "\n",
    "start = time.time()\n",
    "\n",
    "for x_test in X_test:\n",
    "    predictions.append(predict(X_train, y_train, x_test, 10))\n",
    "\n",
    "elapsed = time.time() - start\n",
    "\n",
    "cm = confusion_matrix(y_test, predictions)\n",
    "accuracy = (cm[1,1] + cm[0,0]) / np.sum(cm)\n",
    "print(\"Accuracy for PC3: \", accuracy)\n",
    "print(\"Time: \", elapsed)"
   ]
  }
 ],
 "metadata": {
  "kernelspec": {
   "display_name": "Python 3 (ipykernel)",
   "language": "python",
   "name": "python3"
  },
  "language_info": {
   "codemirror_mode": {
    "name": "ipython",
    "version": 3
   },
   "file_extension": ".py",
   "mimetype": "text/x-python",
   "name": "python",
   "nbconvert_exporter": "python",
   "pygments_lexer": "ipython3",
   "version": "3.11.4"
  }
 },
 "nbformat": 4,
 "nbformat_minor": 5
}
