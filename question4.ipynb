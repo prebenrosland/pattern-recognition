{
 "cells": [
  {
   "cell_type": "code",
   "execution_count": 199,
   "id": "295dab1b",
   "metadata": {},
   "outputs": [],
   "source": [
    "import random\n",
    "import numpy as np"
   ]
  },
  {
   "cell_type": "code",
   "execution_count": 200,
   "id": "9fb6ad37",
   "metadata": {},
   "outputs": [],
   "source": [
    "strings = []\n",
    "\n",
    "def generate_string(string_length, list_length):\n",
    "    for _ in range(list_length):\n",
    "        strings.append(''.join(random.choice('01') for _ in range(string_length)))\n",
    "        \n",
    "generate_string(16, 50)"
   ]
  },
  {
   "cell_type": "code",
   "execution_count": 201,
   "id": "954477a7",
   "metadata": {},
   "outputs": [],
   "source": [
    "def fitness_score(string):\n",
    "    score = string.count('1')\n",
    "    return score"
   ]
  },
  {
   "cell_type": "code",
   "execution_count": 202,
   "id": "35169d8e",
   "metadata": {},
   "outputs": [
    {
     "name": "stdout",
     "output_type": "stream",
     "text": [
      "--- Generation 0 --- \n",
      "Fitness : 12 \t Fittest string: 0101101111011111\n",
      "\n",
      "--- Generation 1 --- \n",
      "Fitness : 12 \t Fittest string: 0111011111110110\n",
      "\n",
      "--- Generation 2 --- \n",
      "Fitness : 13 \t Fittest string: 1111011111110110\n",
      "\n",
      "--- Generation 3 --- \n",
      "Fitness : 13 \t Fittest string: 1111011111110110\n",
      "\n",
      "--- Generation 4 --- \n",
      "Fitness : 13 \t Fittest string: 1101101111011111\n",
      "\n",
      "--- Generation 5 --- \n",
      "Fitness : 14 \t Fittest string: 1111011011111111\n",
      "\n",
      "--- Generation 6 --- \n",
      "Fitness : 14 \t Fittest string: 1111011011111111\n",
      "\n",
      "--- Generation 7 --- \n",
      "Fitness : 14 \t Fittest string: 1111011011111111\n",
      "\n",
      "--- Generation 8 --- \n",
      "Fitness : 14 \t Fittest string: 1111011011111111\n",
      "\n",
      "--- Generation 9 --- \n",
      "Fitness : 15 \t Fittest string: 1111011111111111\n",
      "\n",
      "--- Generation 10 --- \n",
      "Fitness : 15 \t Fittest string: 1111011111111111\n",
      "\n",
      "--- Generation 11 --- \n",
      "Fitness : 15 \t Fittest string: 1111011111111111\n",
      "\n",
      "--- Generation 12 --- \n",
      "Fitness : 16 \t Fittest string: 1111111111111111\n",
      "\n"
     ]
    }
   ],
   "source": [
    "# This function is inspired by assignment 4 in ikt215\n",
    "def evolve(generations, strings):\n",
    "    new_generation = []\n",
    "    for i in range(generations):\n",
    "        ranked_strings = []\n",
    "        \n",
    "        for j in strings:\n",
    "            ranked_strings.append((fitness_score(j), j))\n",
    "            \n",
    "        ranked_strings.sort(key=lambda x: x[0])\n",
    "        new_generation = ranked_strings[::-1]\n",
    "        \n",
    "        print(f'--- Generation {i} --- \\nFitness : {new_generation[0][0]} \\t Fittest string: {new_generation[0][1]}\\n')\n",
    "        \n",
    "        if new_generation[0][0] == len(new_generation[0][1]):\n",
    "            break\n",
    "        \n",
    "        survivors = 20\n",
    "        surviving_strings = new_generation[:survivors]\n",
    "        child_strings = []\n",
    "        for j in surviving_strings:\n",
    "            child_strings.append(j[1])\n",
    "        \n",
    "        # Creating children with one point crossover\n",
    "        for j in range(int((len(strings) - survivors)/2)):\n",
    "            sample_1 = random.choice(surviving_strings)\n",
    "            sample_2 = random.choice(surviving_strings)\n",
    "            cross_index = random.randint(0, len(sample_1))\n",
    "            child_1 = sample_1[1][:cross_index] + sample_2[1][cross_index:]\n",
    "            child_2 = sample_2[1][:cross_index] + sample_1[1][cross_index:]\n",
    "            child_strings.append(child_1)\n",
    "            child_strings.append(child_2)\n",
    "        \n",
    "        # Bit flipping loop inspired by assignment 4 from ikt215\n",
    "        for j in range(len(child_strings)):\n",
    "            num = random.randint(0,100)\n",
    "            if num < 5:\n",
    "                int_array = [int(bit) for bit in child_strings[j]]\n",
    "                index = random.randint(0, len(int_array)-1)\n",
    "                int_array[index] = np.abs(1 - int_array[index])\n",
    "                child_strings[j] = ''.join(str(bit) for bit in int_array)\n",
    "        \n",
    "        strings = child_strings\n",
    "\n",
    "evolve(1000, strings)"
   ]
  },
  {
   "cell_type": "code",
   "execution_count": null,
   "id": "52ce945f",
   "metadata": {},
   "outputs": [],
   "source": []
  }
 ],
 "metadata": {
  "kernelspec": {
   "display_name": "Python 3 (ipykernel)",
   "language": "python",
   "name": "python3"
  },
  "language_info": {
   "codemirror_mode": {
    "name": "ipython",
    "version": 3
   },
   "file_extension": ".py",
   "mimetype": "text/x-python",
   "name": "python",
   "nbconvert_exporter": "python",
   "pygments_lexer": "ipython3",
   "version": "3.11.4"
  }
 },
 "nbformat": 4,
 "nbformat_minor": 5
}
