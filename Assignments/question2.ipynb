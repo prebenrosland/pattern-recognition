{
 "cells": [
  {
   "cell_type": "code",
   "execution_count": 11,
   "id": "ca595676",
   "metadata": {},
   "outputs": [],
   "source": [
    "import pgmpy.models\n",
    "import networkx as nx\n",
    "import pylab\n",
    "from pgmpy.models import BayesianNetwork\n",
    "from pgmpy.factors.discrete.CPD import TabularCPD\n",
    "from pgmpy.inference import VariableElimination"
   ]
  },
  {
   "cell_type": "code",
   "execution_count": 4,
   "id": "2b564210",
   "metadata": {},
   "outputs": [],
   "source": [
    "Alarm_network = BayesianNetwork()\n",
    "Alarm_network.add_edges_from([('Burglary', 'Alarm'), ('Earthquake', 'Alarm'), ('Alarm', 'Mary'), ('Alarm', 'John')])"
   ]
  },
  {
   "cell_type": "code",
   "execution_count": 5,
   "id": "3ca1e83f",
   "metadata": {},
   "outputs": [],
   "source": [
    "burglary_cpd = TabularCPD('Burglary', 2, [[0.001],[0.999]],\n",
    "    state_names={'Burglary': ['T', 'F']})\n",
    "\n",
    "earthquake_cpd = TabularCPD('Earthquake', 2, [[0.002],[0.998]],\n",
    "    state_names={'Earthquake': ['T', 'F']})\n",
    "\n",
    "alarm_cpd = TabularCPD('Alarm', 2, [[0.95, 0.94, 0.29, 0.001],\n",
    "                                    [0.05, 0.06, 0.71, 0.999]],\n",
    "    evidence=['Burglary', 'Earthquake'], evidence_card=[2, 2],\n",
    "    state_names={\n",
    "        'Alarm': ['T', 'F'],\n",
    "        'Burglary': ['T', 'F'],\n",
    "        'Earthquake': ['T', 'F']})\n",
    "\n",
    "mary_cpd = TabularCPD('Mary', 2, [[0.7, 0.01], [0.3, 0.99]],\n",
    "    evidence=['Alarm'], evidence_card=[2],\n",
    "    state_names={\n",
    "        'Alarm': ['T', 'F'],\n",
    "        'Mary': ['T', 'F']})\n",
    "\n",
    "john_cpd = TabularCPD('John', 2, [[0.9, 0.05], [0.1, 0.95]],\n",
    "    evidence=['Alarm'], evidence_card=[2],\n",
    "    state_names={\n",
    "        'Alarm': ['T', 'F'],\n",
    "        'John': ['T', 'F']})"
   ]
  },
  {
   "cell_type": "code",
   "execution_count": 34,
   "id": "84ff0f91",
   "metadata": {},
   "outputs": [
    {
     "name": "stderr",
     "output_type": "stream",
     "text": [
      "WARNING:pgmpy:Replacing existing CPD for Burglary\n",
      "WARNING:pgmpy:Replacing existing CPD for Earthquake\n",
      "WARNING:pgmpy:Replacing existing CPD for Alarm\n",
      "WARNING:pgmpy:Replacing existing CPD for Mary\n",
      "WARNING:pgmpy:Replacing existing CPD for John\n"
     ]
    },
    {
     "name": "stdout",
     "output_type": "stream",
     "text": [
      "Burglary \n",
      " +-------------+-------+\n",
      "| Burglary(T) | 0.001 |\n",
      "+-------------+-------+\n",
      "| Burglary(F) | 0.999 |\n",
      "+-------------+-------+\n",
      "\n",
      " Earthquake \n",
      " +---------------+-------+\n",
      "| Earthquake(T) | 0.002 |\n",
      "+---------------+-------+\n",
      "| Earthquake(F) | 0.998 |\n",
      "+---------------+-------+\n",
      "\n",
      " Alarm sounds \n",
      " +------------+---------------+---------------+---------------+---------------+\n",
      "| Burglary   | Burglary(T)   | Burglary(T)   | Burglary(F)   | Burglary(F)   |\n",
      "+------------+---------------+---------------+---------------+---------------+\n",
      "| Earthquake | Earthquake(T) | Earthquake(F) | Earthquake(T) | Earthquake(F) |\n",
      "+------------+---------------+---------------+---------------+---------------+\n",
      "| Alarm(T)   | 0.95          | 0.94          | 0.29          | 0.001         |\n",
      "+------------+---------------+---------------+---------------+---------------+\n",
      "| Alarm(F)   | 0.05          | 0.06          | 0.71          | 0.999         |\n",
      "+------------+---------------+---------------+---------------+---------------+\n",
      "\n",
      " Mary calls \n",
      " +---------+----------+----------+\n",
      "| Alarm   | Alarm(T) | Alarm(F) |\n",
      "+---------+----------+----------+\n",
      "| Mary(T) | 0.7      | 0.01     |\n",
      "+---------+----------+----------+\n",
      "| Mary(F) | 0.3      | 0.99     |\n",
      "+---------+----------+----------+\n",
      "\n",
      " John calls \n",
      " +---------+----------+----------+\n",
      "| Alarm   | Alarm(T) | Alarm(F) |\n",
      "+---------+----------+----------+\n",
      "| John(T) | 0.9      | 0.05     |\n",
      "+---------+----------+----------+\n",
      "| John(F) | 0.1      | 0.95     |\n",
      "+---------+----------+----------+\n"
     ]
    }
   ],
   "source": [
    "Alarm_network.add_cpds(burglary_cpd)\n",
    "Alarm_network.add_cpds(earthquake_cpd)\n",
    "Alarm_network.add_cpds(alarm_cpd)\n",
    "Alarm_network.add_cpds(mary_cpd)\n",
    "Alarm_network.add_cpds(john_cpd)\n",
    "\n",
    "print('Burglary \\n', burglary_cpd)\n",
    "print('\\n Earthquake \\n', earthquake_cpd)\n",
    "print('\\n Alarm sounds \\n', alarm_cpd)\n",
    "print('\\n Mary calls \\n', mary_cpd)\n",
    "print('\\n John calls \\n', john_cpd)"
   ]
  },
  {
   "cell_type": "code",
   "execution_count": 112,
   "id": "d32f9807",
   "metadata": {},
   "outputs": [
    {
     "data": {
      "image/png": "[encoded data removed]",
      "text/plain": [
       "<Figure size 640x480 with 1 Axes>"
      ]
     },
     "metadata": {},
     "output_type": "display_data"
    }
   ],
   "source": [
    "nx.draw_circular(Alarm_network, with_labels=True, node_size=4000, node_color=\"peachpuff\", font_size=10, arrowsize=10, linewidths=1, edge_color=\"peru\")\n",
    "pylab.savefig(r\"C:\\Users\\prebe\\ikt215\\Exam\\figures\\bayesian_network_alarm.png\")"
   ]
  },
  {
   "cell_type": "code",
   "execution_count": 40,
   "id": "8ec1b361",
   "metadata": {},
   "outputs": [
    {
     "name": "stdout",
     "output_type": "stream",
     "text": [
      "Probability of the alarm sounding with no burglary, no earthquake, and both Mary and John calls \n",
      " 0.0006281112599999998\n",
      "Probability of the alarm sounding with burglary, but no earthquake, and John calls, but Mary does not \n",
      " 0.0002532924\n"
     ]
    }
   ],
   "source": [
    "inference = VariableElimination(Alarm_network)\n",
    "b = inference.query(['Burglary'])\n",
    "e = inference.query(['Earthquake'])\n",
    "a = inference.query(['Alarm'], evidence={'Burglary': 'F', 'Earthquake': 'F'})\n",
    "m = inference.query(['Mary'], evidence={'Alarm': 'T'})\n",
    "j = inference.query(['John'], evidence={'Alarm': 'T'})\n",
    "\n",
    "joint_probability = b.values[1] * e.values[1] * a.values[0] * m.values[0] * j.values[0]\n",
    "print('Probability of the alarm sounding with no burglary, no earthquake, and both Mary and John calls \\n', joint_probability)\n",
    "\n",
    "b = inference.query(['Burglary'])\n",
    "e = inference.query(['Earthquake'])\n",
    "a = inference.query(['Alarm'], evidence={'Burglary': 'T', 'Earthquake': 'F'})\n",
    "m = inference.query(['Mary'], evidence={'Alarm': 'T'})\n",
    "j = inference.query(['John'], evidence={'Alarm': 'T'})\n",
    "\n",
    "joint_probability = b.values[0] * e.values[1] * a.values[0] * m.values[1] * j.values[0]\n",
    "print('Probability of the alarm sounding with burglary, but no earthquake, and John calls, but Mary does not \\n', joint_probability)"
   ]
  },
  {
   "cell_type": "markdown",
   "id": "35e9c604",
   "metadata": {},
   "source": [
    "# Student's mark"
   ]
  },
  {
   "cell_type": "code",
   "execution_count": 42,
   "id": "36460e31",
   "metadata": {},
   "outputs": [],
   "source": [
    "Student_network = BayesianNetwork()\n",
    "Student_network.add_edges_from([('Exam level', 'Marks'), ('IQ level', 'Marks'), ('IQ level', 'Apti. score'), ('Marks', 'Admission')])"
   ]
  },
  {
   "cell_type": "code",
   "execution_count": 85,
   "id": "76ba0648",
   "metadata": {},
   "outputs": [],
   "source": [
    "exam_cpd = TabularCPD('Exam level', 2, [[0.7],[0.3]],\n",
    "    state_names={'Exam level': ['0', '1']})\n",
    "\n",
    "iq_cpd = TabularCPD('IQ level', 2, [[0.8],[0.2]],\n",
    "    state_names={'IQ level': ['0', '1']})\n",
    "\n",
    "mark_cpd = TabularCPD('Marks', 2, [[0.6, 0.5, 0.9, 0.8],\n",
    "                                    [0.4, 0.5, 0.1, 0.2]],\n",
    "    evidence=['Exam level', 'IQ level'], evidence_card=[2, 2],\n",
    "    state_names={\n",
    "        'Marks': ['0', '1'],\n",
    "        'Exam level': ['0', '1'],\n",
    "        'IQ level': ['0', '1']})\n",
    "\n",
    "apti_cpd = TabularCPD('Apti. score', 2, [[0.75, 0.4], [0.25, 0.6]],\n",
    "    evidence=['IQ level'], evidence_card=[2],\n",
    "    state_names={\n",
    "        'IQ level': ['0', '1'],\n",
    "        'Apti. score': ['0', '1']})\n",
    "\n",
    "admission_cpd = admission_cpd = TabularCPD('Admission', 2, [[0.6, 0.9], [0.4, 0.1]],\n",
    "    evidence=['Marks'], evidence_card=[2],\n",
    "    state_names={\n",
    "        'Marks': ['0', '1'],\n",
    "        'Admission': ['0', '1']})"
   ]
  },
  {
   "cell_type": "code",
   "execution_count": 86,
   "id": "de9a09e9",
   "metadata": {},
   "outputs": [
    {
     "name": "stderr",
     "output_type": "stream",
     "text": [
      "WARNING:pgmpy:Replacing existing CPD for Exam level\n",
      "WARNING:pgmpy:Replacing existing CPD for IQ level\n",
      "WARNING:pgmpy:Replacing existing CPD for Marks\n",
      "WARNING:pgmpy:Replacing existing CPD for Apti. score\n",
      "WARNING:pgmpy:Replacing existing CPD for Admission\n"
     ]
    },
    {
     "name": "stdout",
     "output_type": "stream",
     "text": [
      "Exam level \n",
      " +---------------+-----+\n",
      "| Exam level(0) | 0.7 |\n",
      "+---------------+-----+\n",
      "| Exam level(1) | 0.3 |\n",
      "+---------------+-----+\n",
      "\n",
      " IQ level \n",
      " +-------------+-----+\n",
      "| IQ level(0) | 0.8 |\n",
      "+-------------+-----+\n",
      "| IQ level(1) | 0.2 |\n",
      "+-------------+-----+\n",
      "\n",
      " Mark \n",
      " +------------+---------------+---------------+---------------+---------------+\n",
      "| Exam level | Exam level(0) | Exam level(0) | Exam level(1) | Exam level(1) |\n",
      "+------------+---------------+---------------+---------------+---------------+\n",
      "| IQ level   | IQ level(0)   | IQ level(1)   | IQ level(0)   | IQ level(1)   |\n",
      "+------------+---------------+---------------+---------------+---------------+\n",
      "| Marks(0)   | 0.6           | 0.5           | 0.9           | 0.8           |\n",
      "+------------+---------------+---------------+---------------+---------------+\n",
      "| Marks(1)   | 0.4           | 0.5           | 0.1           | 0.2           |\n",
      "+------------+---------------+---------------+---------------+---------------+\n",
      "\n",
      " Apti. score \n",
      " +----------------+-------------+-------------+\n",
      "| IQ level       | IQ level(0) | IQ level(1) |\n",
      "+----------------+-------------+-------------+\n",
      "| Apti. score(0) | 0.75        | 0.4         |\n",
      "+----------------+-------------+-------------+\n",
      "| Apti. score(1) | 0.25        | 0.6         |\n",
      "+----------------+-------------+-------------+\n",
      "\n",
      " Admission \n",
      " +--------------+----------+----------+\n",
      "| Marks        | Marks(0) | Marks(1) |\n",
      "+--------------+----------+----------+\n",
      "| Admission(0) | 0.6      | 0.9      |\n",
      "+--------------+----------+----------+\n",
      "| Admission(1) | 0.4      | 0.1      |\n",
      "+--------------+----------+----------+\n"
     ]
    }
   ],
   "source": [
    "Student_network.add_cpds(exam_cpd)\n",
    "Student_network.add_cpds(iq_cpd)\n",
    "Student_network.add_cpds(mark_cpd)\n",
    "Student_network.add_cpds(apti_cpd)\n",
    "Student_network.add_cpds(admission_cpd)\n",
    "\n",
    "print('Exam level \\n', exam_cpd)\n",
    "print('\\n IQ level \\n', iq_cpd)\n",
    "print('\\n Mark \\n', mark_cpd)\n",
    "print('\\n Apti. score \\n', apti_cpd)\n",
    "print('\\n Admission \\n', admission_cpd)"
   ]
  },
  {
   "cell_type": "code",
   "execution_count": 87,
   "id": "a733c938",
   "metadata": {},
   "outputs": [
    {
     "data": {
      "image/png": "[encoded data removed]",
      "text/plain": [
       "<Figure size 640x480 with 1 Axes>"
      ]
     },
     "metadata": {},
     "output_type": "display_data"
    }
   ],
   "source": [
    "nx.draw_circular(Student_network, with_labels=True, node_size=4000, node_color=\"peachpuff\", font_size=10, arrowsize=10, linewidths=1, edge_color=\"peru\")\n",
    "pylab.savefig(r\"C:\\Users\\prebe\\ikt215\\Exam\\figures\\bayesian_network_student.png\")"
   ]
  },
  {
   "cell_type": "code",
   "execution_count": 94,
   "id": "f7db387e",
   "metadata": {},
   "outputs": [
    {
     "name": "stdout",
     "output_type": "stream",
     "text": [
      "Probability of a = 1, m = 1, i = 0, e = 1, s = 0 \n",
      " 0.0018000000000000004\n",
      "Probability of a = 0, m = 0, i = 1, e = 0, s = 1 \n",
      " 0.025199999999999997\n"
     ]
    }
   ],
   "source": [
    "inference = VariableElimination(Student_network)\n",
    "e = inference.query(['Exam level'])\n",
    "i = inference.query(['IQ level'])\n",
    "m = inference.query(['Marks'], evidence={'Exam level': '1', 'IQ level': '0'})\n",
    "ap = inference.query(['Apti. score'], evidence={'IQ level': '0'})\n",
    "ad = inference.query(['Admission'], evidence={'Marks': '1'})\n",
    "\n",
    "joint_probability = e.values[1] * i.values[0] * m.values[1] * ap.values[0] * ad.values[1]\n",
    "print('Probability of a = 1, m = 1, i = 0, e = 1, s = 0 \\n', joint_probability)\n",
    "\n",
    "e = inference.query(['Exam level'])\n",
    "i = inference.query(['IQ level'])\n",
    "m = inference.query(['Marks'], evidence={'Exam level': '0', 'IQ level': '1'})\n",
    "ap = inference.query(['Apti. score'], evidence={'IQ level': '1'})\n",
    "ad = inference.query(['Admission'], evidence={'Marks': '0'})\n",
    "\n",
    "joint_probability = e.values[0] * i.values[1] * m.values[0] * ap.values[1] * ad.values[0]\n",
    "print('Probability of a = 0, m = 0, i = 1, e = 0, s = 1 \\n', joint_probability)"
   ]
  },
  {
   "cell_type": "code",
   "execution_count": null,
   "id": "b87190a2",
   "metadata": {},
   "outputs": [],
   "source": []
  }
 ],
 "metadata": {
  "kernelspec": {
   "display_name": "Python 3 (ipykernel)",
   "language": "python",
   "name": "python3"
  },
  "language_info": {
   "codemirror_mode": {
    "name": "ipython",
    "version": 3
   },
   "file_extension": ".py",
   "mimetype": "text/x-python",
   "name": "python",
   "nbconvert_exporter": "python",
   "pygments_lexer": "ipython3",
   "version": "3.11.4"
  }
 },
 "nbformat": 4,
 "nbformat_minor": 5
}
